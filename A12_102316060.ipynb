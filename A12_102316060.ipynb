{
  "nbformat": 4,
  "nbformat_minor": 0,
  "metadata": {
    "colab": {
      "provenance": [],
      "authorship_tag": "ABX9TyMdWl6sMMacY9zyz/xE1V/p",
      "include_colab_link": true
    },
    "kernelspec": {
      "name": "python3",
      "display_name": "Python 3"
    },
    "language_info": {
      "name": "python"
    }
  },
  "cells": [
    {
      "cell_type": "markdown",
      "metadata": {
        "id": "view-in-github",
        "colab_type": "text"
      },
      "source": [
        "<a href=\"https://colab.research.google.com/github/KunalGupta28/102316060_UCS420/blob/main/A12_102316060.ipynb\" target=\"_parent\"><img src=\"https://colab.research.google.com/assets/colab-badge.svg\" alt=\"Open In Colab\"/></a>"
      ]
    },
    {
      "cell_type": "code",
      "source": [
        "from sklearn.feature_extraction.text import TfidfVectorizer\n",
        "from sklearn.naive_bayes import MultinomialNB\n",
        "import numpy as np\n",
        "\n",
        "# Sample training data\n",
        "questions = [\n",
        "    \"hi\", \"hello\", \"i have a headache\", \"what should i do if i have a fever?\",\n",
        "    \"i feel dizzy\", \"what should i eat for a cold?\", \"how to stay healthy?\",\n",
        "    \"what should i do in case of a cut?\", \"how much water should i drink daily?\",\n",
        "    \"thank you\", \"bye\"\n",
        "]\n",
        "\n",
        "responses = [\n",
        "    \"Hello! I am HealthBot. How can I assist you today?\",\n",
        "    \"Hi! Do you have a health-related question?\",\n",
        "    \"You should rest, stay hydrated, and take a mild pain reliever if needed.\",\n",
        "    \"Drink plenty of fluids and rest. If the fever persists, please consult a doctor.\",\n",
        "    \"Sit down, breathe deeply, and drink water. If it continues, seek medical help.\",\n",
        "    \"Warm fluids, soups, citrus fruits, and light meals help during a cold.\",\n",
        "    \"Eat balanced meals, exercise regularly, stay hydrated, and get enough sleep.\",\n",
        "    \"Clean the wound with water, apply antiseptic, and cover it with a clean bandage.\",\n",
        "    \"Generally, 2 to 3 liters per day is recommended, but it varies based on your activity.\",\n",
        "    \"You’re welcome! Take care.\",\n",
        "    \"Goodbye! Stay healthy.\"\n",
        "]\n",
        "\n",
        "# Convert text to numerical features\n",
        "vectorizer = TfidfVectorizer()\n",
        "X = vectorizer.fit_transform(questions)\n",
        "\n",
        "# Labels for responses\n",
        "y = np.arange(len(responses))\n",
        "\n",
        "# Train model\n",
        "model = MultinomialNB()\n",
        "model.fit(X, y)\n",
        "\n",
        "# Chatbot loop\n",
        "print(\"HealthBot: Hello! I am HealthBot. How can I assist you today?\")\n",
        "while True:\n",
        "    user_input = input(\"You: \").strip().lower()\n",
        "    if user_input == \"bye\":\n",
        "        print(\"HealthBot:\", responses[responses.index(\"Goodbye! Stay healthy.\")])\n",
        "        break\n",
        "    user_vec = vectorizer.transform([user_input])\n",
        "    prediction = model.predict(user_vec)[0]\n",
        "    print(\"HealthBot:\", responses[prediction])\n"
      ],
      "metadata": {
        "colab": {
          "base_uri": "https://localhost:8080/"
        },
        "id": "Ca8-Nfxbwh2U",
        "outputId": "6967001c-a81e-426e-ac33-306f5c2bd863"
      },
      "execution_count": null,
      "outputs": [
        {
          "output_type": "stream",
          "name": "stdout",
          "text": [
            "HealthBot: Hello! I am HealthBot. How can I assist you today?\n",
            "You: hello\n",
            "HealthBot: Hi! Do you have a health-related question?\n",
            "You: i have a headache\n",
            "HealthBot: You should rest, stay hydrated, and take a mild pain reliever if needed.\n"
          ]
        }
      ]
    }
  ]
}